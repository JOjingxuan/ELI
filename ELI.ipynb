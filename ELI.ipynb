{
 "cells": [
  {
   "cell_type": "markdown",
   "metadata": {
    "id": "P7aXbQlylnyx",
    "tags": []
   },
   "source": [
    "### Energy-based Latent Aligner for Incremental Learning | [![Open In Colab](https://colab.research.google.com/assets/colab-badge.svg)](https://colab.research.google.com/github/JosephKJ/ELI/blob/main/ELI.ipynb)\n",
    "\n",
    "#### CVPR 2022\n",
    "\n",
    "This notebook contains code to replicate the MNIST experiment described in Section 3.3. The size of the latent dimention is **32**. The key logic of our proposed methodology is encapsulated inside `EBMAligner` class."
   ]
  },
  {
   "cell_type": "code",
   "execution_count": 1,
   "metadata": {},
   "outputs": [],
   "source": [
    "import os\n",
    "os.environ[\"CUDA_VISIBLE_DEVICES\"]=\"0\""
   ]
  },
  {
   "cell_type": "code",
   "execution_count": 2,
   "metadata": {
    "id": "sWSZmaW-ef-q"
   },
   "outputs": [],
   "source": [
    "# some initial imports\n",
    "import numpy as np\n",
    "import matplotlib.pyplot as plt\n",
    "import seaborn as sns\n",
    "from sklearn import manifold\n",
    "from time import time\n",
    "from matplotlib.ticker import NullFormatter\n",
    "import copy\n",
    "\n",
    "import torch\n",
    "import torch.nn as nn\n",
    "import torchvision.datasets as datasets\n",
    "import torchvision.transforms as transforms\n",
    "import torch.optim as optim\n",
    "import torch.nn.functional as F\n",
    "from torch.utils.data import TensorDataset, DataLoader"
   ]
  },
  {
   "cell_type": "code",
   "execution_count": 3,
   "metadata": {
    "id": "bWXs3Fy9b-Pu"
   },
   "outputs": [],
   "source": [
    "# Seeding for reproducibility\n",
    "seed = 120\n",
    "np.random.seed(seed=seed)\n",
    "torch.manual_seed(seed)\n",
    "\n",
    "# Setting up Device.\n",
    "use_cuda = True\n",
    "use_cuda = use_cuda and torch.cuda.is_available()\n",
    "device = torch.device(\"cuda\" if use_cuda else \"cpu\")"
   ]
  },
  {
   "cell_type": "code",
   "execution_count": 4,
   "metadata": {
    "colab": {
     "base_uri": "https://localhost:8080/"
    },
    "id": "kyob1mpgui_j",
    "outputId": "a6ffb822-6213-4cf9-8267-487bccab0756"
   },
   "outputs": [
    {
     "name": "stdout",
     "output_type": "stream",
     "text": [
      "fatal: destination path 'continualai/colab' already exists and is not an empty directory.\n",
      "Files already downloaded!\n",
      "Size of training data is: 60000, size of test data: 10000\n"
     ]
    }
   ],
   "source": [
    "# Getting MNIST data\n",
    "!git clone https://github.com/ContinualAI/colab.git continualai/colab\n",
    "from continualai.colab.scripts import mnist\n",
    "mnist.init()\n",
    "\n",
    "x_train, t_train, x_test, t_test = mnist.load()\n",
    "\n",
    "print(f'Size of training data is: {t_train.shape[0]}, size of test data: {t_test.shape[0]}')"
   ]
  },
  {
   "cell_type": "code",
   "execution_count": 5,
   "metadata": {
    "colab": {
     "base_uri": "https://localhost:8080/",
     "height": 147
    },
    "id": "3PYIvkASeFfn",
    "outputId": "c879a380-97bf-4a96-bd38-53e1f6090e8b"
   },
   "outputs": [
    {
     "data": {
      "image/png": "[encoded data removed]",
      "text/plain": [
       "<Figure size 360x216 with 20 Axes>"
      ]
     },
     "metadata": {},
     "output_type": "display_data"
    }
   ],
   "source": [
    "# Creating two tasks\n",
    "task_classes_arr = [(0, 1, 2, 3, 4), (5, 6, 7, 8, 9)]\n",
    "tasks_num = len(task_classes_arr) \n",
    "\n",
    "task_data = []\n",
    "for i, task_classes in enumerate(task_classes_arr):\n",
    "  train_mask = np.isin(t_train, task_classes)\n",
    "  test_mask = np.isin(t_test, task_classes)\n",
    "  x_train_task, t_train_task = x_train[train_mask], t_train[train_mask] - task_classes[0]\n",
    "  x_test_task, t_test_task = x_test[test_mask], t_test[test_mask] - task_classes[0]\n",
    "  task_data.append((x_train_task, t_train_task, x_test_task, t_test_task))\n",
    "\n",
    "# Display tasks\n",
    "def plot_task(axs, data, samples_num):\n",
    "  for sample in range(samples_num):\n",
    "    axs[sample].imshow(data[sample][0], cmap=\"gray\")\n",
    "    axs[sample].xaxis.set_ticks([])\n",
    "    axs[sample].yaxis.set_ticks([])\n",
    "\n",
    "n_tasks, samples = 2, 10\n",
    "_, axs = plt.subplots(n_tasks, samples, figsize=(5, 3))\n",
    "for task in range(n_tasks):\n",
    "  axs[task, 0].set_ylabel(f'Task {task}', rotation=0)\n",
    "  axs[task, 0].yaxis.set_label_coords(-0.5,1)\n",
    "  plot_task(axs[task], task_data[task][0], samples)\n",
    "plt.tight_layout()"
   ]
  },
  {
   "cell_type": "code",
   "execution_count": 6,
   "metadata": {
    "id": "awLQn1AqkqgZ"
   },
   "outputs": [],
   "source": [
    "class Base(nn.Module):\n",
    "  \"\"\"The base model.\n",
    "  \"\"\"\n",
    "  def __init__(self, hsize=32):\n",
    "    super(Base, self).__init__()\n",
    "    self.l1 = nn.Linear(784, hsize)\n",
    "    \n",
    "  def forward(self, x, return_z_also=False):\n",
    "    x = x.view(x.size(0), -1)\n",
    "    z = self.l1(x)\n",
    "    if return_z_also:\n",
    "        return z\n",
    "    else:\n",
    "        return z\n",
    "\n",
    "class Head(nn.Module):\n",
    "  \"\"\"The classifier head.\n",
    "  \"\"\"\n",
    "  def __init__(self, fe, hsize=32):\n",
    "    super(Head, self).__init__()\n",
    "    self.fe = fe\n",
    "    self.l2 = nn.Linear(hsize, 5)\n",
    "\n",
    "  def clf(self, z):\n",
    "    x = self.l2(F.relu(z))\n",
    "    return x\n",
    "\n",
    "  def forward(self, x, return_z_also=False):\n",
    "    z = self.fe.forward(x)\n",
    "    x = self.clf(z)\n",
    "    if return_z_also:\n",
    "        return x, z\n",
    "    else:\n",
    "        return x, z"
   ]
  },
  {
   "cell_type": "code",
   "execution_count": 7,
   "metadata": {
    "id": "CxkFzfnlriSA"
   },
   "outputs": [],
   "source": [
    "def train(model, device, train_loader, optimizer, epochs=10, log_training=False):\n",
    "    for epoch in range(epochs):\n",
    "      model.train()\n",
    "      \n",
    "      for x, y in train_loader:\n",
    "        x, y = x.to(device), y.to(device).long()\n",
    "        \n",
    "        optimizer.zero_grad()\n",
    "\n",
    "        output, _ = model(x)\n",
    "        loss = F.cross_entropy(output, y)\n",
    "        loss.backward()\n",
    "        optimizer.step()\n",
    "        if log_training:\n",
    "          print('Train Epoch: {} \\tLoss: {:.6f}'.format(epoch, loss.item()))\n",
    "\n",
    "def test(model, device, test_loader):\n",
    "    model.eval()\n",
    "    test_loss = 0\n",
    "    correct = 0\n",
    "    accuracy_metric = Metrics()\n",
    "\n",
    "    for x, y in test_loader:\n",
    "      with torch.no_grad():\n",
    "        x, y = x.to(device), y.to(device).long()\n",
    "        output, _ = model(x)\n",
    "        test_loss += F.cross_entropy(output, y).item() # sum up batch loss\n",
    "\n",
    "        accuracy = compute_accuracy(output, y)[0].item()\n",
    "        accuracy_metric.update(accuracy)\n",
    "\n",
    "    test_loss /= len(test_loader)\n",
    "    return test_loss, accuracy_metric.avg"
   ]
  },
  {
   "cell_type": "code",
   "execution_count": 8,
   "metadata": {},
   "outputs": [],
   "source": [
    "class Metrics:\n",
    "    def __init__(self):\n",
    "        self.val = 0\n",
    "        self.sum = 0\n",
    "        self.count = 0\n",
    "        self.avg = 0\n",
    "\n",
    "    def update(self, val, n=1):\n",
    "        self.val = val\n",
    "        self.sum += val*n\n",
    "        self.count += n\n",
    "        self.avg = self.sum / self.count\n",
    "        \n",
    "def compute_accuracy(output, target, topk=(1,)):\n",
    "    maxk = max(topk)\n",
    "    batch_size = target.size(0)\n",
    "\n",
    "    _, pred = output.topk(maxk, 1)\n",
    "    pred = pred.t()\n",
    "    correct = pred.eq(target.view(1, -1).expand_as(pred))\n",
    "\n",
    "    result = []\n",
    "    for k in topk:\n",
    "        correct_k = correct[:k].view(-1).float().sum(0)\n",
    "        result.append(correct_k.mul_(100.0 / batch_size))\n",
    "    return result"
   ]
  },
  {
   "cell_type": "code",
   "execution_count": 9,
   "metadata": {
    "colab": {
     "base_uri": "https://localhost:8080/",
     "height": 303
    },
    "id": "tvpaBTeDuHQq",
    "outputId": "ed90cbec-41f5-4c0e-dc17-a46aa36c1f44"
   },
   "outputs": [
    {
     "name": "stdout",
     "output_type": "stream",
     "text": [
      "Training on Task 1\n",
      "Testing on Task 1: accuracy -> 99.16158536585365\n"
     ]
    }
   ],
   "source": [
    "z_size = 32\n",
    "batch_size = 128\n",
    "\n",
    "# Creating the models\n",
    "base_model = Base(hsize=z_size).to(device)\n",
    "model_t1 = Head(base_model, hsize=z_size).to(device)\n",
    "model_t2 = Head(base_model, hsize=z_size).to(device)\n",
    "\n",
    "# Setting up the optimizers\n",
    "optimizer = optim.SGD(model_t1.parameters(), lr=0.1, momentum=0.9)\n",
    "x_train_1, t_train_1, x_test_1, t_test_1 = task_data[0]\n",
    "x_train_2, t_train_2, x_test_2, t_test_2 = task_data[1]\n",
    "\n",
    "# Setting up data\n",
    "t1_train_ds = TensorDataset(torch.Tensor(x_train_1), torch.Tensor(t_train_1))\n",
    "t1_test_ds = TensorDataset(torch.Tensor(x_test_1), torch.Tensor(t_test_1))\n",
    "t2_train_ds = TensorDataset(torch.Tensor(x_train_2), torch.Tensor(t_train_2))\n",
    "t2_test_ds = TensorDataset(torch.Tensor(x_test_2), torch.Tensor(t_test_2))\n",
    "t1_train_loader = DataLoader(t1_train_ds, batch_size=batch_size, shuffle=True, num_workers=0, drop_last=True)\n",
    "t1_test_loader = DataLoader(t1_test_ds, batch_size=batch_size, shuffle=False, num_workers=0, drop_last=False)\n",
    "t2_train_loader = DataLoader(t2_train_ds, batch_size=batch_size, shuffle=True, num_workers=0, drop_last=True)\n",
    "t2_test_loader = DataLoader(t2_test_ds, batch_size=batch_size, shuffle=False, num_workers=0, drop_last=False)\n",
    "\n",
    "print('Training on Task 1')\n",
    "train(model_t1, device, t1_train_loader, optimizer, epochs=10)\n",
    "\n",
    "loss, acc = test(model_t1, device, t1_test_loader)\n",
    "print(f'Testing on Task 1: accuracy -> {acc}')\n",
    "\n",
    "model_t1_backup = copy.deepcopy(model_t1)"
   ]
  },
  {
   "cell_type": "code",
   "execution_count": 10,
   "metadata": {
    "colab": {
     "base_uri": "https://localhost:8080/",
     "height": 405
    },
    "id": "QGkNEHxUUWCt",
    "outputId": "cd6ccc4d-69a6-4edc-9f2c-6e53123a5e83"
   },
   "outputs": [
    {
     "name": "stdout",
     "output_type": "stream",
     "text": [
      "Training on Task 2\n",
      "Testing on Task 2 using model_t2: accuracy -> 95.35164481715152\n",
      "Testing on Task 1 using the backbone features adapted after learning task 2: accuracy -> 20.88314344824814\n"
     ]
    }
   ],
   "source": [
    "print('Training on Task 2')\n",
    "train(model_t2, device, t2_train_loader, optimizer, epochs=10)\n",
    "\n",
    "loss, acc = test(model_t2, device, t2_test_loader)\n",
    "print(f'Testing on Task 2 using model_t2: accuracy -> {acc}')\n",
    "\n",
    "loss, acc = test(model_t1, device, t1_test_loader)\n",
    "print(f'Testing on Task 1 using the backbone features adapted after learning task 2: accuracy -> {acc}')"
   ]
  },
  {
   "cell_type": "code",
   "execution_count": 11,
   "metadata": {
    "id": "TCXJBaj9twY6"
   },
   "outputs": [],
   "source": [
    "class EBMAligner:\n",
    "    \"\"\"Manages the lifecycle of the proposed Energy Based Latent Alignment.\n",
    "    \"\"\"\n",
    "    def __init__(self):\n",
    "        self.enabled = False\n",
    "\n",
    "        # Configs of the EBM model\n",
    "        self.ebm_latent_dim = 32\n",
    "        self.ebm_n_layers = 1\n",
    "        self.ebm_n_hidden_layers = 64\n",
    "        self.ebm_ema = None\n",
    "\n",
    "        # EBM Learning configs\n",
    "        self.max_iter = 17100\n",
    "        self.ebm_lr = 0.0001\n",
    "        self.n_langevin_steps = 30\n",
    "        self.langevin_lr = 0.1\n",
    "        self.ema_decay = 0.99\n",
    "\n",
    "        # EBM Loss config\n",
    "        self.alpha = 1.0\n",
    "\n",
    "    def ema(self, model1, model2, decay=0.999):\n",
    "        par1 = dict(model1.named_parameters())\n",
    "        par2 = dict(model2.named_parameters())\n",
    "        for k in par1.keys():\n",
    "            par1[k].data.mul_(decay).add_(par2[k].data, alpha=1 - decay)\n",
    "\n",
    "    def requires_grad(self, model, flag=True):\n",
    "        for p in model.parameters():\n",
    "            p.requires_grad = flag\n",
    "\n",
    "    def sampler(self, ebm_model, x, langevin_steps=30, lr=0.1):\n",
    "        \"\"\"The langevin sampler to sample from the ebm_model\n",
    "\n",
    "        :param ebm_model: The source EBM model\n",
    "        :param x: The data which is updated to minimize energy from EBM\n",
    "        :param langevin_steps: The number of langevin steps\n",
    "        :param lr: The langevin learning rate\n",
    "        :return: Samples from EBM\n",
    "        \"\"\"\n",
    "        x = x.clone().detach()\n",
    "        x.requires_grad_(True)\n",
    "        sgd = torch.optim.SGD([x], lr=lr)\n",
    "\n",
    "        for k in range(langevin_steps):\n",
    "            ebm_model.zero_grad()\n",
    "            sgd.zero_grad()\n",
    "            energy = ebm_model(x).sum()\n",
    "\n",
    "            (-energy).backward()\n",
    "            sgd.step()\n",
    "\n",
    "        return x.clone().detach()\n",
    "\n",
    "    def learn_ebm(self, prev_model, current_model, current_task_data, validation_data=None):\n",
    "        \"\"\"Learn the EBM.\n",
    "\n",
    "        current_task_data + prev_model acts as in-distribution data, and\n",
    "        current_task_data + current_model acts as out-of-distribution data.\n",
    "        This is used for learning the energy manifold.\n",
    "\n",
    "        :param prev_model: Model trained till previous task.\n",
    "        :param current_model: Model trained on current task.\n",
    "        :param current_task_data: Datapoints from the current incremental task.\n",
    "        :param validation_data: OPTIONAL, if passed, used for evaluation.\n",
    "        :return: None.\n",
    "        \"\"\"\n",
    "        ebm = EBM(latent_dim=self.ebm_latent_dim, n_layer=self.ebm_n_layers,\n",
    "                       n_hidden=self.ebm_n_hidden_layers).cuda()\n",
    "        if self.ebm_ema is None:\n",
    "            self.ebm_ema = EBM(latent_dim=self.ebm_latent_dim, n_layer=self.ebm_n_layers,\n",
    "                               n_hidden=self.ebm_n_hidden_layers).cuda()\n",
    "            # Initialize the exponential moving average of the EBM.\n",
    "            self.ema(self.ebm_ema, ebm, decay=0.)\n",
    "\n",
    "        ebm_optimizer = torch.optim.RMSprop(ebm.parameters(), lr=self.ebm_lr)\n",
    "\n",
    "        iterations = 0\n",
    "        prev_model.eval()\n",
    "        current_model.eval()\n",
    "        data_iter = iter(current_task_data)\n",
    "\n",
    "        print('Starting to learn the EBM')\n",
    "        while iterations < self.max_iter:\n",
    "            ebm.zero_grad()\n",
    "            ebm_optimizer.zero_grad()\n",
    "\n",
    "            try:\n",
    "                inputs, _ = next(data_iter)\n",
    "            except (OSError, StopIteration):\n",
    "                data_iter = iter(current_task_data)\n",
    "                inputs, _ = next(data_iter)\n",
    "\n",
    "            inputs = inputs.cuda()\n",
    "            _, prev_z = prev_model(inputs, return_z_also=True)\n",
    "            _, current_z = current_model(inputs, return_z_also=True)\n",
    "\n",
    "            self.requires_grad(ebm, False)\n",
    "            sampled_z = self.sampler(ebm, current_z.clone().detach(), langevin_steps=self.n_langevin_steps, lr=self.langevin_lr)\n",
    "            self.requires_grad(ebm, True)\n",
    "\n",
    "            indistribution_energy = ebm(prev_z)\n",
    "            oodistribution_energy = ebm(sampled_z)\n",
    "\n",
    "            loss = -(indistribution_energy - oodistribution_energy).mean()\n",
    "\n",
    "            loss.backward()\n",
    "            ebm_optimizer.step()\n",
    "            self.ema(self.ebm_ema, ebm, decay=self.ema_decay)\n",
    "\n",
    "            if iterations == 0 or iterations % 1000 == 0:\n",
    "                if validation_data is not None:\n",
    "                    accuracy = self.evaluate(prev_model, current_model, validation_data)\n",
    "                    print(\"Iteration: {:5d}, accuracy: {:5.2f}\".format(iterations, accuracy))\n",
    "                else:\n",
    "                    print(\"Iter: {:5d}\".format(iterations))\n",
    "\n",
    "            iterations += 1\n",
    "\n",
    "        self.enabled = True\n",
    "\n",
    "    def evaluate(self, previous_model, current_model, validation_data):\n",
    "        previous_model.eval()\n",
    "        current_model.eval()\n",
    "        accuracy_metric = Metrics()\n",
    "\n",
    "        for inputs, labels in validation_data:\n",
    "            inputs = inputs.cuda()\n",
    "            labels = labels.cuda()\n",
    "            _, current_z = current_model(inputs, return_z_also=True)\n",
    "            aligned_z = self.align_latents(current_z)\n",
    "\n",
    "            output = previous_model.clf(aligned_z)\n",
    "            accuracy = self.compute_accuracy(output, labels)[0].item()\n",
    "            accuracy_metric.update(accuracy)\n",
    "\n",
    "        return accuracy_metric.avg\n",
    "\n",
    "    def compute_accuracy(self, output, target, topk=(1,)):\n",
    "        maxk = max(topk)\n",
    "        batch_size = target.size(0)\n",
    "\n",
    "        _, pred = output.topk(maxk, 1)\n",
    "        pred = pred.t()\n",
    "        correct = pred.eq(target.view(1, -1).expand_as(pred))\n",
    "\n",
    "        result = []\n",
    "        for k in topk:\n",
    "            correct_k = correct[:k].view(-1).float().sum(0)\n",
    "            result.append(correct_k.mul_(100.0 / batch_size))\n",
    "        return result\n",
    "\n",
    "    def align_latents(self, z):\n",
    "        self.requires_grad(self.ebm_ema, False)\n",
    "        aligned_z = self.sampler(self.ebm_ema, z.clone().detach(), langevin_steps=self.n_langevin_steps, lr=self.langevin_lr)\n",
    "        self.requires_grad(self.ebm_ema, True)\n",
    "        return aligned_z\n",
    "\n",
    "\n",
    "class EBM(nn.Module):\n",
    "    \"\"\"Defining the Energy Based Model.\n",
    "    \"\"\"\n",
    "    def __init__(self, latent_dim=32, n_layer=1, n_hidden=64):\n",
    "        super().__init__()\n",
    "\n",
    "        mlp = nn.ModuleList()\n",
    "        if n_layer == 0:\n",
    "            mlp.append(nn.Linear(latent_dim, 1))\n",
    "        else:\n",
    "            mlp.append(nn.Linear(latent_dim, n_hidden))\n",
    "\n",
    "            for _ in range(n_layer-1):\n",
    "                mlp.append(nn.LeakyReLU(0.2))\n",
    "                mlp.append(nn.Linear(n_hidden, n_hidden))\n",
    "\n",
    "            mlp.append(nn.LeakyReLU(0.2))\n",
    "            mlp.append(nn.Linear(n_hidden, 1))\n",
    "\n",
    "        self.mlp = nn.Sequential(*mlp)\n",
    "\n",
    "    def forward(self, x):\n",
    "        return self.mlp(x)"
   ]
  },
  {
   "cell_type": "code",
   "execution_count": 12,
   "metadata": {
    "colab": {
     "base_uri": "https://localhost:8080/"
    },
    "id": "H_mGonJaukqH",
    "outputId": "072d21ef-5f0b-4603-c7ab-0f5bd69a2838",
    "tags": []
   },
   "outputs": [
    {
     "name": "stdout",
     "output_type": "stream",
     "text": [
      "Starting to learn the EBM\n",
      "Iteration:     0, accuracy: 20.60\n",
      "Iteration:  1000, accuracy: 20.60\n",
      "Iteration:  2000, accuracy: 21.66\n",
      "Iteration:  3000, accuracy: 28.51\n",
      "Iteration:  4000, accuracy: 43.23\n",
      "Iteration:  5000, accuracy: 49.75\n",
      "Iteration:  6000, accuracy: 53.25\n",
      "Iteration:  7000, accuracy: 55.88\n",
      "Iteration:  8000, accuracy: 65.16\n",
      "Iteration:  9000, accuracy: 70.75\n",
      "Iteration: 10000, accuracy: 73.72\n",
      "Iteration: 11000, accuracy: 75.88\n",
      "Iteration: 12000, accuracy: 77.02\n",
      "Iteration: 13000, accuracy: 78.99\n",
      "Iteration: 14000, accuracy: 80.40\n",
      "Iteration: 15000, accuracy: 81.73\n",
      "Iteration: 16000, accuracy: 83.33\n",
      "Iteration: 17000, accuracy: 83.70\n"
     ]
    }
   ],
   "source": [
    "aligner = EBMAligner()\n",
    "aligner.learn_ebm(model_t1_backup, model_t2, t2_train_loader, t1_test_loader)"
   ]
  },
  {
   "cell_type": "code",
   "execution_count": 13,
   "metadata": {},
   "outputs": [
    {
     "name": "stdout",
     "output_type": "stream",
     "text": [
      "Accuracy from un-modified latents : 20.88314344824814\n",
      "Accuracy from aligned latents (using ELI): 83.44231377578363\n"
     ]
    }
   ],
   "source": [
    "def align(model, aligner, device, data_loader):\n",
    "  model.eval()\n",
    "  model_t1.eval()\n",
    "  latents = []\n",
    "  labels = []\n",
    "  accuracy_metric = Metrics()\n",
    "  accuracy_metric_adap = Metrics()\n",
    "    \n",
    "  for x, y in data_loader:\n",
    "    x, y = x.to(device), y.to(device).long()\n",
    "    _, z = model(x)\n",
    "\n",
    "    output = model_t1.clf(z)\n",
    "    accuracy = compute_accuracy(output, y)[0].item()\n",
    "    accuracy_metric.update(accuracy)\n",
    "\n",
    "    z_samples = aligner.align_latents(z.clone().detach())\n",
    "\n",
    "    output = model_t1.clf(z_samples)\n",
    "    accuracy = compute_accuracy(output, y)[0].item()\n",
    "    accuracy_metric_adap.update(accuracy)\n",
    "\n",
    "    latents.extend(z_samples.cpu().numpy())\n",
    "    labels.extend(y.cpu().numpy())\n",
    "\n",
    "  print('Accuracy from un-modified latents : {}'.format(accuracy_metric.avg))\n",
    "  print('Accuracy from aligned latents (using ELI): {}'.format(accuracy_metric_adap.avg))\n",
    "\n",
    "align(model_t2, aligner, device, t1_test_loader)"
   ]
  },
  {
   "cell_type": "code",
   "execution_count": null,
   "metadata": {},
   "outputs": [],
   "source": []
  }
 ],
 "metadata": {
  "accelerator": "GPU",
  "colab": {
   "collapsed_sections": [],
   "name": "EBM Anchoring.ipynb",
   "provenance": []
  },
  "kernelspec": {
   "display_name": "Python 3",
   "language": "python",
   "name": "python3"
  },
  "language_info": {
   "codemirror_mode": {
    "name": "ipython",
    "version": 3
   },
   "file_extension": ".py",
   "mimetype": "text/x-python",
   "name": "python",
   "nbconvert_exporter": "python",
   "pygments_lexer": "ipython3",
   "version": "3.6.7"
  }
 },
 "nbformat": 4,
 "nbformat_minor": 4
}